{
 "cells": [
  {
   "cell_type": "code",
   "execution_count": 21,
   "metadata": {},
   "outputs": [],
   "source": [
    "import requests\n",
    "from bs4 import BeautifulSoup\n",
    "import smtplib\n",
    "from email.mime.multipart import MIMEMultipart\n",
    "from email.mime.text import MIMEText\n",
    "import datetime"
   ]
  },
  {
   "cell_type": "code",
   "execution_count": 22,
   "metadata": {},
   "outputs": [],
   "source": [
    "now = datetime.datetime.now()\n",
    "content = ''"
   ]
  },
  {
   "cell_type": "code",
   "execution_count": 23,
   "metadata": {},
   "outputs": [
    {
     "name": "stdout",
     "output_type": "stream",
     "text": [
      "Extracting Hacker News Stories...\n"
     ]
    }
   ],
   "source": [
    "def extract_news(url):\n",
    "    print('Extracting Hacker News Stories...')\n",
    "    cnt = ''\n",
    "    cnt +=('<b>HN Top Stories:</b>\\n'+'<br>'+'-'*50+'<br>')\n",
    "    response = requests.get(url)\n",
    "    content = response.content\n",
    "    soup = BeautifulSoup(content,'html.parser')\n",
    "    for i,tag in enumerate(soup.find_all('td',attrs={'class':'title','valign':''})):\n",
    "        cnt += ((str(i+1)+' :: '+tag.text + \"\\n\" + '<br>') if tag.text!='More' else '')\n",
    "        #print(tag.prettify) #find_all('span',attrs={'class':'sitestr'}))\n",
    "    return(cnt)\n",
    "    \n",
    "cnt = extract_news('https://news.ycombinator.com/')\n",
    "content += cnt\n",
    "content += ('<br>------<br>')\n",
    "content +=('<br><br>End of Message')"
   ]
  },
  {
   "cell_type": "code",
   "execution_count": 27,
   "metadata": {},
   "outputs": [],
   "source": [
    "SERVER = 'smtp.gmail.com'\n",
    "PORT = 587\n",
    "FROM = 'highed.elves@gmail.com'\n",
    "TO = 'emilio.eguia@gmail.com'\n",
    "PASS = 'jrrtolkien'"
   ]
  },
  {
   "cell_type": "code",
   "execution_count": 28,
   "metadata": {},
   "outputs": [],
   "source": [
    "msg = MIMEMultipart()\n",
    "\n",
    "msg['Subject'] = 'Top News [automated] ' + str(now.day) + '-' + str(now.month) + '-' + str(now.year)\n",
    "msg['From'] = FROM\n",
    "msg['To'] = TO\n",
    "\n",
    "msg.attach(MIMEText(content, 'html'))"
   ]
  },
  {
   "cell_type": "code",
   "execution_count": 29,
   "metadata": {},
   "outputs": [
    {
     "name": "stderr",
     "output_type": "stream",
     "text": [
      "send: 'ehlo [192.168.0.11]\\r\\n'\n",
      "reply: b'250-smtp.gmail.com at your service, [2800:810:446:7f1:310d:254:426b:28ec]\\r\\n'\n",
      "reply: b'250-SIZE 35882577\\r\\n'\n",
      "reply: b'250-8BITMIME\\r\\n'\n",
      "reply: b'250-STARTTLS\\r\\n'\n",
      "reply: b'250-ENHANCEDSTATUSCODES\\r\\n'\n",
      "reply: b'250-PIPELINING\\r\\n'\n",
      "reply: b'250-CHUNKING\\r\\n'\n",
      "reply: b'250 SMTPUTF8\\r\\n'\n",
      "reply: retcode (250); Msg: b'smtp.gmail.com at your service, [2800:810:446:7f1:310d:254:426b:28ec]\\nSIZE 35882577\\n8BITMIME\\nSTARTTLS\\nENHANCEDSTATUSCODES\\nPIPELINING\\nCHUNKING\\nSMTPUTF8'\n",
      "send: 'STARTTLS\\r\\n'\n",
      "reply: b'220 2.0.0 Ready to start TLS\\r\\n'\n",
      "reply: retcode (220); Msg: b'2.0.0 Ready to start TLS'\n",
      "send: 'ehlo [192.168.0.11]\\r\\n'\n",
      "reply: b'250-smtp.gmail.com at your service, [2800:810:446:7f1:310d:254:426b:28ec]\\r\\n'\n",
      "reply: b'250-SIZE 35882577\\r\\n'\n",
      "reply: b'250-8BITMIME\\r\\n'\n",
      "reply: b'250-AUTH LOGIN PLAIN XOAUTH2 PLAIN-CLIENTTOKEN OAUTHBEARER XOAUTH\\r\\n'\n",
      "reply: b'250-ENHANCEDSTATUSCODES\\r\\n'\n",
      "reply: b'250-PIPELINING\\r\\n'\n",
      "reply: b'250-CHUNKING\\r\\n'\n",
      "reply: b'250 SMTPUTF8\\r\\n'\n",
      "reply: retcode (250); Msg: b'smtp.gmail.com at your service, [2800:810:446:7f1:310d:254:426b:28ec]\\nSIZE 35882577\\n8BITMIME\\nAUTH LOGIN PLAIN XOAUTH2 PLAIN-CLIENTTOKEN OAUTHBEARER XOAUTH\\nENHANCEDSTATUSCODES\\nPIPELINING\\nCHUNKING\\nSMTPUTF8'\n",
      "send: 'AUTH PLAIN AGhpZ2hlZC5lbHZlc0BnbWFpbC5jb20AanJydG9sa2llbg==\\r\\n'\n",
      "reply: b'235 2.7.0 Accepted\\r\\n'\n",
      "reply: retcode (235); Msg: b'2.7.0 Accepted'\n",
      "send: 'mail FROM:<highed.elves@gmail.com> size=3606\\r\\n'\n",
      "reply: b'250 2.1.0 OK g1sm710941qkd.89 - gsmtp\\r\\n'\n",
      "reply: retcode (250); Msg: b'2.1.0 OK g1sm710941qkd.89 - gsmtp'\n",
      "send: 'rcpt TO:<emilio.eguia@gmail.com>\\r\\n'\n",
      "reply: b'250 2.1.5 OK g1sm710941qkd.89 - gsmtp\\r\\n'\n",
      "reply: retcode (250); Msg: b'2.1.5 OK g1sm710941qkd.89 - gsmtp'\n",
      "send: 'data\\r\\n'\n",
      "reply: b'354  Go ahead g1sm710941qkd.89 - gsmtp\\r\\n'\n",
      "reply: retcode (354); Msg: b'Go ahead g1sm710941qkd.89 - gsmtp'\n",
      "data: (354, b'Go ahead g1sm710941qkd.89 - gsmtp')\n",
      "send: b'Content-Type: multipart/mixed; boundary=\"===============3854481689830603494==\"\\r\\nMIME-Version: 1.0\\r\\nSubject: Top News [automated] 28-9-2021\\r\\nFrom: highed.elves@gmail.com\\r\\nTo: emilio.eguia@gmail.com\\r\\n\\r\\n--===============3854481689830603494==\\r\\nContent-Type: text/html; charset=\"utf-8\"\\r\\nMIME-Version: 1.0\\r\\nContent-Transfer-Encoding: base64\\r\\n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\\r\\nYnI+RW5kIG9mIE1lc3NhZ2U=\\r\\n\\r\\n--===============3854481689830603494==--\\r\\n.\\r\\n'\n",
      "reply: b'250 2.0.0 OK  1632882897 g1sm710941qkd.89 - gsmtp\\r\\n'\n",
      "reply: retcode (250); Msg: b'2.0.0 OK  1632882897 g1sm710941qkd.89 - gsmtp'\n",
      "data: (250, b'2.0.0 OK  1632882897 g1sm710941qkd.89 - gsmtp')\n",
      "send: 'quit\\r\\n'\n",
      "reply: b'221 2.0.0 closing connection g1sm710941qkd.89 - gsmtp\\r\\n'\n",
      "reply: retcode (221); Msg: b'2.0.0 closing connection g1sm710941qkd.89 - gsmtp'\n"
     ]
    },
    {
     "data": {
      "text/plain": [
       "(221, b'2.0.0 closing connection g1sm710941qkd.89 - gsmtp')"
      ]
     },
     "execution_count": 29,
     "metadata": {},
     "output_type": "execute_result"
    }
   ],
   "source": [
    "server = smtplib.SMTP(SERVER, PORT)\n",
    "server.set_debuglevel(1)\n",
    "server.ehlo()\n",
    "server.starttls()\n",
    "server.login(FROM, PASS)\n",
    "server.sendmail(FROM, TO, msg.as_string())\n",
    "\n",
    "server.quit()"
   ]
  },
  {
   "cell_type": "code",
   "execution_count": null,
   "metadata": {},
   "outputs": [],
   "source": []
  }
 ],
 "metadata": {
  "kernelspec": {
   "display_name": "Python 3",
   "language": "python",
   "name": "python3"
  },
  "language_info": {
   "codemirror_mode": {
    "name": "ipython",
    "version": 3
   },
   "file_extension": ".py",
   "mimetype": "text/x-python",
   "name": "python",
   "nbconvert_exporter": "python",
   "pygments_lexer": "ipython3",
   "version": "3.8.3"
  }
 },
 "nbformat": 4,
 "nbformat_minor": 4
}
