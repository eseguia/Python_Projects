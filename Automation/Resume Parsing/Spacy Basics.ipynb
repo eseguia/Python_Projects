{
 "cells": [
  {
   "cell_type": "markdown",
   "metadata": {},
   "source": [
    "### Loading Library"
   ]
  },
  {
   "cell_type": "code",
   "execution_count": 1,
   "metadata": {},
   "outputs": [],
   "source": [
    "import spacy"
   ]
  },
  {
   "cell_type": "markdown",
   "metadata": {},
   "source": [
    "### Load English tokenizer, tagger, parser, NER and word vectors"
   ]
  },
  {
   "cell_type": "code",
   "execution_count": 25,
   "metadata": {},
   "outputs": [],
   "source": [
    "nlp = spacy.load(\"en_core_web_sm\")"
   ]
  },
  {
   "cell_type": "markdown",
   "metadata": {},
   "source": [
    "### Sample Text"
   ]
  },
  {
   "cell_type": "code",
   "execution_count": 26,
   "metadata": {},
   "outputs": [],
   "source": [
    "# Process whole documents\n",
    "text = \"Google was initially funded by an August 1998 contribution of $100,000 from Andy Bechtolsheim, co-founder of Sun Microsystems; the money was given before Google was incorporated.[30] Google received money from three other angel investors in 1998: Amazon.com founder Jeff Bezos, Stanford University computer science professor David Cheriton, and entrepreneur Ram Shriram.[31] Between these initial investors, friends, and family Google raised around 1 million dollars, which is what allowed them to open up their original shop in Menlo Park, California\""
   ]
  },
  {
   "cell_type": "code",
   "execution_count": 27,
   "metadata": {},
   "outputs": [
    {
     "data": {
      "text/plain": [
       "'Google was initially funded by an August 1998 contribution of $100,000 from Andy Bechtolsheim, co-founder of Sun Microsystems; the money was given before Google was incorporated.[30] Google received money from three other angel investors in 1998: Amazon.com founder Jeff Bezos, Stanford University computer science professor David Cheriton, and entrepreneur Ram Shriram.[31] Between these initial investors, friends, and family Google raised around 1 million dollars, which is what allowed them to open up their original shop in Menlo Park, California'"
      ]
     },
     "execution_count": 27,
     "metadata": {},
     "output_type": "execute_result"
    }
   ],
   "source": [
    "text"
   ]
  },
  {
   "cell_type": "markdown",
   "metadata": {},
   "source": [
    "### NLP at Work"
   ]
  },
  {
   "cell_type": "code",
   "execution_count": 10,
   "metadata": {},
   "outputs": [],
   "source": [
    "doc = nlp(text)"
   ]
  },
  {
   "cell_type": "code",
   "execution_count": 28,
   "metadata": {},
   "outputs": [
    {
     "data": {
      "text/plain": [
       "Google was initially funded by an August 1998 contribution of $100,000 from Andy Bechtolsheim, co-founder of Sun Microsystems; the money was given before Google was incorporated.[30] Google received money from three other angel investors in 1998: Amazon.com founder Jeff Bezos, Stanford University computer science professor David Cheriton, and entrepreneur Ram Shriram.[31] Between these initial investors, friends, and family Google raised around 1 million dollars, which is what allowed them to open up their original shop in Menlo Park, California"
      ]
     },
     "execution_count": 28,
     "metadata": {},
     "output_type": "execute_result"
    }
   ],
   "source": [
    "doc"
   ]
  },
  {
   "cell_type": "markdown",
   "metadata": {},
   "source": [
    "### Tokenization"
   ]
  },
  {
   "cell_type": "code",
   "execution_count": 29,
   "metadata": {},
   "outputs": [
    {
     "name": "stdout",
     "output_type": "stream",
     "text": [
      "Google\n",
      "was\n",
      "initially\n",
      "funded\n",
      "by\n",
      "an\n",
      "August\n",
      "1998\n",
      "contribution\n",
      "of\n",
      "$\n",
      "100,000\n",
      "from\n",
      "Andy\n",
      "Bechtolsheim\n",
      ",\n",
      "co\n",
      "-\n",
      "founder\n",
      "of\n",
      "Sun\n",
      "Microsystems\n",
      ";\n",
      "the\n",
      "money\n",
      "was\n",
      "given\n",
      "before\n",
      "Google\n",
      "was\n",
      "incorporated.[30\n",
      "]\n",
      "Google\n",
      "received\n",
      "money\n",
      "from\n",
      "three\n",
      "other\n",
      "angel\n",
      "investors\n",
      "in\n",
      "1998\n",
      ":\n",
      "Amazon.com\n",
      "founder\n",
      "Jeff\n",
      "Bezos\n",
      ",\n",
      "Stanford\n",
      "University\n",
      "computer\n",
      "science\n",
      "professor\n",
      "David\n",
      "Cheriton\n",
      ",\n",
      "and\n",
      "entrepreneur\n",
      "Ram\n",
      "Shriram.[31\n",
      "]\n",
      "Between\n",
      "these\n",
      "initial\n",
      "investors\n",
      ",\n",
      "friends\n",
      ",\n",
      "and\n",
      "family\n",
      "Google\n",
      "raised\n",
      "around\n",
      "1\n",
      "million\n",
      "dollars\n",
      ",\n",
      "which\n",
      "is\n",
      "what\n",
      "allowed\n",
      "them\n",
      "to\n",
      "open\n",
      "up\n",
      "their\n",
      "original\n",
      "shop\n",
      "in\n",
      "Menlo\n",
      "Park\n",
      ",\n",
      "California\n"
     ]
    }
   ],
   "source": [
    "for token in doc:\n",
    "    print(token)"
   ]
  },
  {
   "cell_type": "markdown",
   "metadata": {},
   "source": [
    "### Only Noun"
   ]
  },
  {
   "cell_type": "code",
   "execution_count": 32,
   "metadata": {},
   "outputs": [
    {
     "name": "stdout",
     "output_type": "stream",
     "text": [
      "other\n",
      "initial\n",
      "which\n",
      "their\n",
      "original\n"
     ]
    }
   ],
   "source": [
    "for token in doc:\n",
    "    if token.pos_ == \"ADJ\":\n",
    "        print(token)"
   ]
  },
  {
   "cell_type": "markdown",
   "metadata": {},
   "source": [
    "### Named Entity Recognition"
   ]
  },
  {
   "cell_type": "code",
   "execution_count": 34,
   "metadata": {},
   "outputs": [
    {
     "name": "stdout",
     "output_type": "stream",
     "text": [
      "Google ORG\n",
      "August 1998 DATE\n",
      "100,000 MONEY\n",
      "Andy Bechtolsheim PERSON\n",
      "Sun Microsystems ORG\n",
      "Google ORG\n",
      "Google ORG\n",
      "three CARDINAL\n",
      "1998 DATE\n",
      "Amazon.com ORG\n",
      "Jeff Bezos PERSON\n",
      "Stanford University ORG\n",
      "David Cheriton PERSON\n",
      "Google ORG\n",
      "around 1 million dollars MONEY\n",
      "Menlo Park GPE\n",
      "California GPE\n"
     ]
    }
   ],
   "source": [
    "for entity in doc.ents:\n",
    "        print(entity.text, entity.label_)"
   ]
  },
  {
   "cell_type": "code",
   "execution_count": null,
   "metadata": {},
   "outputs": [],
   "source": []
  }
 ],
 "metadata": {
  "kernelspec": {
   "display_name": "Python 3",
   "language": "python",
   "name": "python3"
  },
  "language_info": {
   "codemirror_mode": {
    "name": "ipython",
    "version": 3
   },
   "file_extension": ".py",
   "mimetype": "text/x-python",
   "name": "python",
   "nbconvert_exporter": "python",
   "pygments_lexer": "ipython3",
   "version": "3.7.3"
  }
 },
 "nbformat": 4,
 "nbformat_minor": 2
}
