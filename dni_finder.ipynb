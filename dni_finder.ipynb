{
 "cells": [
  {
   "cell_type": "code",
   "execution_count": 1,
   "id": "acd6c2ba",
   "metadata": {},
   "outputs": [],
   "source": [
    "from bs4 import BeautifulSoup as bs\n",
    "import requests\n",
    "import pandas as pd"
   ]
  },
  {
   "cell_type": "code",
   "execution_count": 19,
   "id": "1d9c7fe1",
   "metadata": {
    "scrolled": false
   },
   "outputs": [
    {
     "name": "stdout",
     "output_type": "stream",
     "text": [
      "<html><body><p>{\"cuit\":\"27-44158180-2\",\"person\":\"ESCOTO LIMA DANIELA ABIGAIL\",\"sex\":\"Femenino\"}</p></body></html>\n",
      "<html><body><p>{\"cuit\":\"20-44158181-6\",\"person\":\"EGUIA EMILIO SANTIAGO\",\"sex\":\"Masculino\"}</p></body></html>\n",
      "<html><body><p>{\"cuit\":\"20-44158182-4\",\"person\":\"WERNER GRECO AGUSTINA JUNE\",\"sex\":\"Masculino\"}</p></body></html>\n"
     ]
    }
   ],
   "source": [
    "for dni in range(44158180, 44158183):\n",
    "    url = f'https://dni-finder.herokuapp.com/api/dni/{dni}'\n",
    "    r = requests.get(url)\n",
    "    soup = bs(r.content) \n",
    "    print(soup)"
   ]
  },
  {
   "cell_type": "code",
   "execution_count": null,
   "id": "c608c7e5",
   "metadata": {},
   "outputs": [],
   "source": []
  }
 ],
 "metadata": {
  "kernelspec": {
   "display_name": "Python 3 (ipykernel)",
   "language": "python",
   "name": "python3"
  },
  "language_info": {
   "codemirror_mode": {
    "name": "ipython",
    "version": 3
   },
   "file_extension": ".py",
   "mimetype": "text/x-python",
   "name": "python",
   "nbconvert_exporter": "python",
   "pygments_lexer": "ipython3",
   "version": "3.9.7"
  }
 },
 "nbformat": 4,
 "nbformat_minor": 5
}
