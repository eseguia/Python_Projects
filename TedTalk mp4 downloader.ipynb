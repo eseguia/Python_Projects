{
 "cells": [
  {
   "cell_type": "code",
   "execution_count": 1,
   "metadata": {},
   "outputs": [],
   "source": [
    "from bs4 import BeautifulSoup\n",
    "import requests\n",
    "import re\n",
    "import sys"
   ]
  },
  {
   "cell_type": "code",
   "execution_count": 7,
   "metadata": {},
   "outputs": [
    {
     "name": "stdout",
     "output_type": "stream",
     "text": [
      "Enter the URL: https://www.ted.com/talks/moriba_jah_what_if_every_satellite_suddenly_disappeared?language=en\n",
      "Storing video in ..... 115679.mp4\n",
      "Finished\n"
     ]
    }
   ],
   "source": [
    "if len(sys.argv) > 1:\n",
    "    url = sys.argv[1]\n",
    "else:\n",
    "    sys.exit(\"Error: Please enter the TED Talk URL\")\n",
    "\n",
    "url = input('Enter the URL: ')\n",
    "\n",
    "r = requests.get(url)\n",
    "soup = BeautifulSoup(r.content, features = 'lxml')\n",
    "\n",
    "for val in soup.findAll('script'):\n",
    "    if(re.search('talkPage.init', str(val))) is not None:\n",
    "        result = str(val)\n",
    "        \n",
    "result_mp4 = re.search(\"(?P<url>https?://[^\\s]+)(mp4)\", result).group(\"url\")\n",
    "mp4_url = result_mp4.split('\"')[0]\n",
    "\n",
    "file_name = mp4_url.split(\"/\")[len(mp4_url.split(\"/\"))-1].split('?')[0]\n",
    "\n",
    "print(\"Storing video in ..... \" + file_name)\n",
    "\n",
    "r = requests.get(mp4_url)\n",
    "\n",
    "with open(file_name,'wb') as f:\n",
    "  f.write(r.content)\n",
    "\n",
    "print(\"Finished\")"
   ]
  },
  {
   "cell_type": "code",
   "execution_count": null,
   "metadata": {},
   "outputs": [],
   "source": []
  }
 ],
 "metadata": {
  "kernelspec": {
   "display_name": "Python 3",
   "language": "python",
   "name": "python3"
  },
  "language_info": {
   "codemirror_mode": {
    "name": "ipython",
    "version": 3
   },
   "file_extension": ".py",
   "mimetype": "text/x-python",
   "name": "python",
   "nbconvert_exporter": "python",
   "pygments_lexer": "ipython3",
   "version": "3.8.3"
  }
 },
 "nbformat": 4,
 "nbformat_minor": 4
}
